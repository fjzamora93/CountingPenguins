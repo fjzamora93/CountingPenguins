{
 "cells": [
  {
   "cell_type": "markdown",
   "metadata": {},
   "source": [
    "# Asignación y normalización de labels\n",
    "\n",
    "En este notebook se procederá:\n",
    "1. En primer lugar, a asignar las labels -sin normalizar- a las distintas imágenes.\n",
    "2. Una vez las labels han sido correctametne asignadas, procederán a normalizarse."
   ]
  },
  {
   "cell_type": "code",
   "execution_count": 1,
   "metadata": {},
   "outputs": [],
   "source": [
    "import utils.yolo_fun as yolo_fun\n",
    "import utils.img_fun as img_fun\n",
    "import os\n",
    "import pandas as pd\n",
    "from tqdm import tqdm  \n",
    "import rasterio\n",
    "\n"
   ]
  },
  {
   "cell_type": "markdown",
   "metadata": {},
   "source": [
    "### Consultamos las dimensiones de la imagen que vayamos a recortar"
   ]
  },
  {
   "cell_type": "code",
   "execution_count": 2,
   "metadata": {},
   "outputs": [
    {
     "name": "stdout",
     "output_type": "stream",
     "text": [
      "Hello, world!\n",
      "Ancho: 10195 píxeles\n",
      "Alto: 11420 píxeles\n"
     ]
    }
   ],
   "source": [
    "# Selección de la imagen\n",
    "NUM_TILE = 24\n",
    "image_path  = 'G:\\\\.shortcut-targets-by-id\\\\1pYgV5EIk4-LapLNhlCwpQaDAzuqNffXG\\\\doctorado_albert\\\\conteo_pinguinos\\\\recortes'\n",
    "image_name = f\"recorte_{NUM_TILE}.tif\"\n",
    "full_image_path = os.path.join(image_path, image_name)\n",
    "\n",
    "# Marcamos el ancho y alto de la imagen- utilizamos la función desde utils.img_fun\n",
    "width, height = img_fun.get_width_height(full_image_path)\n",
    "\n",
    "\n",
    "# Cargamos el archivo CSV con las coordenadas SIN normalizar y procedemos a generar los txt\n",
    "csv_file = \"coords/yolo_coords.csv\" \n",
    "image_dir = f\"cut_tiles/tiles_500x500_{NUM_TILE}\" \n",
    "output_dir = \"coords/labels_sin_normalizar\" \n",
    "\n",
    "# Consultar la función en utils/functions.py\n",
    "yolo_fun.generar_txt_yolo(image_dir=image_dir, csv_file=csv_file, output_dir=output_dir)\n"
   ]
  },
  {
   "cell_type": "markdown",
   "metadata": {},
   "source": [
    "### Normalizamos las labels\n",
    "\n",
    "Para cara archivo en txt, será necesario normalizarlo para que pueda ser leido por yolo. Los archivos normalizados pasarán a la carpeta labels_normalized. Una vez estén en esta caqrpeta, podremos pasar al paso número 5 (jungar cada label con su imagen correspondiente dentro de la carpeta dataset)."
   ]
  },
  {
   "cell_type": "code",
   "execution_count": 54,
   "metadata": {},
   "outputs": [],
   "source": [
    "coords_sin_normalizar = \"coords/labels_sin_normalizar\"\n",
    "coords_normalized = \"coords/labels_normalized\"\n",
    "\n",
    "\n",
    "for file in os.listdir(coords_sin_normalizar):\n",
    "    coords_file = os.path.join(coords_sin_normalizar, file)\n",
    "    output_file = os.path.join(coords_normalized, file)\n",
    "    \n",
    "    # Consultar la función en utils/functions.py\n",
    "    yolo_fun.normalize_yolo_coords(\n",
    "        tiff_file=full_image_path,\n",
    "        txt_file_coords=coords_file, \n",
    "        output_file=output_file, \n",
    "    )"
   ]
  }
 ],
 "metadata": {
  "kernelspec": {
   "display_name": "Python 3",
   "language": "python",
   "name": "python3"
  },
  "language_info": {
   "codemirror_mode": {
    "name": "ipython",
    "version": 3
   },
   "file_extension": ".py",
   "mimetype": "text/x-python",
   "name": "python",
   "nbconvert_exporter": "python",
   "pygments_lexer": "ipython3",
   "version": "3.12.3"
  }
 },
 "nbformat": 4,
 "nbformat_minor": 2
}
