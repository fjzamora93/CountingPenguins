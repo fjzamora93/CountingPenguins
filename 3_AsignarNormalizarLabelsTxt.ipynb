{
 "cells": [
  {
   "cell_type": "markdown",
   "metadata": {},
   "source": [
    "# Asignación y normalización de labels\n",
    "\n",
    "En este notebook se procederá:\n",
    "1. En primer lugar, a asignar las labels -sin normalizar- a las distintas imágenes.\n",
    "2. Una vez las labels han sido correctametne asignadas, procederán a normalizarse."
   ]
  },
  {
   "cell_type": "code",
   "execution_count": 1,
   "metadata": {},
   "outputs": [],
   "source": [
    "import os\n",
    "import pandas as pd\n",
    "from tqdm import tqdm  # Para mostrar progreso\n",
    "import rasterio\n"
   ]
  },
  {
   "cell_type": "markdown",
   "metadata": {},
   "source": [
    "## Consultamos las dimensiones de la imagen que vayamos a recortar"
   ]
  },
  {
   "cell_type": "code",
   "execution_count": 2,
   "metadata": {},
   "outputs": [
    {
     "name": "stdout",
     "output_type": "stream",
     "text": [
      "Ancho: 10195 píxeles\n",
      "Alto: 11420 píxeles\n"
     ]
    }
   ],
   "source": [
    "# Selección de la imagen\n",
    "NUM_TILE = 62\n",
    "image_path  = 'G:\\\\.shortcut-targets-by-id\\\\1pYgV5EIk4-LapLNhlCwpQaDAzuqNffXG\\\\doctorado_albert\\\\conteo_pinguinos\\\\recortes'\n",
    "image_name = f\"recorte_{NUM_TILE}.tif\"\n",
    "full_image_path = os.path.join(image_path, image_name)\n",
    "\n",
    "# Abrir la imagen con rasterio\n",
    "with rasterio.open(full_image_path) as dataset:\n",
    "    # Obtener el ancho (número de columnas) y alto (número de filas) de la imagen\n",
    "    width = dataset.width\n",
    "    height = dataset.height\n",
    "\n",
    "# Mostrar el resultado\n",
    "print(f'Ancho: {width} píxeles')\n",
    "print(f'Alto: {height} píxeles')\n",
    "\n",
    "# Ancho: 10195 píxeles\n",
    "# Alto: 11420 píxeles"
   ]
  },
  {
   "cell_type": "code",
   "execution_count": 3,
   "metadata": {},
   "outputs": [],
   "source": [
    "\n",
    "\n",
    "def generar_txt_yolo(\n",
    "    image_dir: str, \n",
    "    csv_file: str = 'coords/coords.csv',  # Asegúrate de que este archivo tenga las coordenadas no normalizadas\n",
    "    output_dir: str = 'coords/labels'  # Directorio donde se guardarán los archivos .txt generados\n",
    ") -> None:\n",
    "    \"\"\"\n",
    "    Genera archivos de etiquetas YOLO para cada tile basado en coordenadas no normalizadas.\n",
    "\n",
    "    Args:\n",
    "    - csv_file (str): Ruta al archivo CSV con las coordenadas no normalizadas.\n",
    "    - image_dir (str): Directorio donde están las imágenes recortadas.\n",
    "    - output_dir (str): Directorio donde se guardarán los archivos .txt generados.\n",
    "    \"\"\"\n",
    "    # Cargar el CSV con las coordenadas no normalizadas\n",
    "    data = pd.read_csv(csv_file, header=None, names=['class', 'x_center', 'y_center', 'width', 'height'])\n",
    "\n",
    "    # Convertir las columnas a tipos numéricos\n",
    "    data = data.drop(index=0)\n",
    "\n",
    "    data['x_center'] = pd.to_numeric(data['x_center'])\n",
    "    data['y_center'] = pd.to_numeric(data['y_center'])\n",
    "    data['width'] = pd.to_numeric(data['width'])\n",
    "    data['height'] = pd.to_numeric(data['height'])\n",
    "\n",
    "    # Asegurarse de que el directorio de salida existe\n",
    "    os.makedirs(output_dir, exist_ok=True)\n",
    "    \n",
    "    # Obtener los nombres de las imágenes (tiles)\n",
    "    image_files = [f for f in os.listdir(image_dir) if f.endswith(('.tif', '.png', '.tiff'))]\n",
    "\n",
    "    for image_file in tqdm(image_files, desc=\"Generando archivos .txt\"):\n",
    "        image_path = os.path.join(image_dir, image_file)\n",
    "        \n",
    "        # Abrimos la imagen georeferenciada con rasterio\n",
    "        with rasterio.open(image_path) as src:\n",
    "            # Obtener las coordenadas geográficas de la imagen (bounding box)\n",
    "            xmin, ymin, xmax, ymax = src.bounds  # Estos son los límites geográficos de la imagen\n",
    "\n",
    "        # Filtrar las coordenadas que caen dentro de las coordenadas geográficas de la imagen\n",
    "        filtered_data = data[\n",
    "            (data['x_center'] >= xmin) & (data['x_center'] <= xmax) &\n",
    "            (data['y_center'] >= ymin) & (data['y_center'] <= ymax)\n",
    "        ]\n",
    "\n",
    "        # Crear el archivo .txt para este tile\n",
    "        if not filtered_data.empty:\n",
    "            # Crear el archivo .txt para este tile\n",
    "            output_path = os.path.join(output_dir, f\"{os.path.splitext(image_file)[0]}.txt\")\n",
    "            filtered_data[['class', 'x_center', 'y_center', 'width', 'height']].to_csv(\n",
    "                output_path, sep=' ', index=False, header=False\n",
    "            )\n",
    "\n",
    "    print(f\"Archivos .txt generados en {output_dir}\")\n",
    "\n",
    "\n"
   ]
  },
  {
   "cell_type": "code",
   "execution_count": 4,
   "metadata": {},
   "outputs": [
    {
     "name": "stderr",
     "output_type": "stream",
     "text": [
      "Generando archivos .txt: 100%|██████████| 400/400 [00:06<00:00, 60.71it/s]"
     ]
    },
    {
     "name": "stdout",
     "output_type": "stream",
     "text": [
      "Archivos .txt generados en coords/labels_sin_normalizar\n"
     ]
    },
    {
     "name": "stderr",
     "output_type": "stream",
     "text": [
      "\n"
     ]
    }
   ],
   "source": [
    "# Ejemplo de uso\n",
    "csv_file = \"coords/yolo_coords.csv\"  # Archivo CSV con coordenadas no normalizadas\n",
    "image_dir = f\"cut_tiles/tiles_500x500_{NUM_TILE}\"  # Carpeta con imágenes de 500x500\n",
    "output_dir = \"coords/labels_sin_normalizar\"  # Carpeta donde se guardarán los .txt\n",
    "\n",
    "generar_txt_yolo(image_dir=image_dir, csv_file=csv_file, output_dir=output_dir)"
   ]
  },
  {
   "cell_type": "markdown",
   "metadata": {},
   "source": [
    "## Normalizamos las labels\n",
    "\n",
    "Para cara archivo en txt, será necesario normalizarlo para que pueda ser leido por yolo. Los archivos normalizados pasarán a la carpeta labels_normalized. Una vez estén en esta caqrpeta, podremos pasar al paso número 5 (jungar cada label con su imagen correspondiente dentro de la carpeta dataset)."
   ]
  },
  {
   "cell_type": "code",
   "execution_count": 6,
   "metadata": {},
   "outputs": [],
   "source": [
    "def normalize_yolo_coords(\n",
    "    tiff_file: str,  # ruta de la imagen TIFF\n",
    "    txt_file_coords: str, \n",
    "    output_file: str,\n",
    ") -> None:\n",
    "    \"\"\"\n",
    "    Normaliza todas las coordenadas del dataset completo al formato YOLO.\n",
    "    \n",
    "    Args:\n",
    "    - txt_file_coords: str - Ruta al archivo TXT con todas las coordenadas en formato YOLO (Id, x_center, y_center, width, height).\n",
    "    - tiff_file: str - Ruta al archivo TIFF que define el área de referencia. Se obtienen así los límites.\n",
    "    - output_file: str - Nombre del archivo de salida con las coordenadas normalizadas.\n",
    "    \"\"\"\n",
    "    # Cargar datos del archivo TXT\n",
    "    data = pd.read_csv(txt_file_coords, delimiter=' ', encoding='ISO-8859-1', header=None, names=['class', 'x_center', 'y_center', 'width', 'height'])\n",
    "\n",
    "    # Abrir el archivo TIFF para obtener metadatos\n",
    "    with rasterio.open(tiff_file) as src:\n",
    "        transform = src.transform\n",
    "        width, height = src.width, src.height\n",
    "\n",
    "        # Definir los límites del área total\n",
    "        top_left = transform * (0, 0)\n",
    "        bottom_right = transform * (src.width, src.height)\n",
    "        min_x, max_y = top_left\n",
    "        max_x, min_y = bottom_right\n",
    "\n",
    "    # Filtrar los puntos dentro del área total (opcional, por si hay datos fuera del rango del TIFF)\n",
    "    data = data[\n",
    "        (data['x_center'] >= min_x) & (data['x_center'] <= max_x) &\n",
    "        (data['y_center'] >= min_y) & (data['y_center'] <= max_y)\n",
    "    ]\n",
    "\n",
    "    # Normalizar las coordenadas y dimensiones\n",
    "    data['x_center'] = (data['x_center'] - min_x) / (max_x - min_x)  # Normalización en X\n",
    "    data['y_center'] = (data['y_center'] - min_y) / (max_y - min_y)  # Normalización en Y\n",
    "    data['width'] = data['width'] / width  # Normalización del ancho\n",
    "    data['height'] = data['height'] / height  # Normalización de la altura\n",
    "\n",
    "    # Guardar el dataset en formato YOLO\n",
    "    os.makedirs(os.path.dirname(output_file), exist_ok=True)\n",
    "    data.to_csv(output_file, index=False, header=False, sep=' ')\n",
    "\n"
   ]
  },
  {
   "cell_type": "code",
   "execution_count": 7,
   "metadata": {},
   "outputs": [],
   "source": [
    "coords_sin_normalizar = \"coords/labels_sin_normalizar\"\n",
    "coords_normalized = \"coords/labels_normalized\"\n",
    "\n",
    "\n",
    "for file in os.listdir(coords_sin_normalizar):\n",
    "    coords_file = os.path.join(coords_sin_normalizar, file)\n",
    "    output_file = os.path.join(coords_normalized, file)\n",
    "    \n",
    "    normalize_yolo_coords(\n",
    "        tiff_file=full_image_path,\n",
    "        txt_file_coords=coords_file, \n",
    "        output_file=output_file, \n",
    "    )"
   ]
  }
 ],
 "metadata": {
  "kernelspec": {
   "display_name": "Python 3",
   "language": "python",
   "name": "python3"
  },
  "language_info": {
   "codemirror_mode": {
    "name": "ipython",
    "version": 3
   },
   "file_extension": ".py",
   "mimetype": "text/x-python",
   "name": "python",
   "nbconvert_exporter": "python",
   "pygments_lexer": "ipython3",
   "version": "3.12.3"
  }
 },
 "nbformat": 4,
 "nbformat_minor": 2
}
