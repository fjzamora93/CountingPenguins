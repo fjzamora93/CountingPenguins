{
 "cells": [
  {
   "cell_type": "markdown",
   "metadata": {},
   "source": [
    "### ⚠️⚠️⚠️ Este markdown no es necesario volver a ejecutarlo ⚠️⚠️⚠️\n",
    "\n",
    "### --->> puedes pasar a ejecutar directamente el markdown 4 (asignar labels a cada tile)\n",
    " \n",
    "Las salidas de sete markdown son las siguientes:\n",
    "- coords/yolo_coords.csv : archivo con las coordenadas en formato YOLO **SIN NORMALIZAR** (hay que usar las normalizadas para entrenar el modelo).\n",
    "- coords/coords_normalized.csv: archivo con las coordenadas normalizadas perfectas para entrenar el modelo YOLOV8."
   ]
  },
  {
   "cell_type": "code",
   "execution_count": 1,
   "metadata": {},
   "outputs": [],
   "source": [
    "\n",
    "import os\n",
    "import pandas as pd\n",
    "import rasterio"
   ]
  },
  {
   "cell_type": "markdown",
   "metadata": {},
   "source": [
    "## Formateo de datos YOLO \n",
    "### [class, X_centro, Y_centro, ancho, alto]\n",
    "\n",
    "Los datos ya están formateados, por lo que esta celda NO HAY QUE EJECUTARLA nunca más.\n",
    "\n",
    "El objetivo es pasar las coordenadas, que están en X, Y en el csv original , a coordenadas en YOLO, que son:\n",
    "\n",
    "[class, X_centro, Y_centro, ancho, alto]"
   ]
  },
  {
   "cell_type": "code",
   "execution_count": null,
   "metadata": {},
   "outputs": [],
   "source": [
    "\n",
    "CSV_FILE_ORIGINAL = \"G:\\\\.shortcut-targets-by-id\\\\1pYgV5EIk4-LapLNhlCwpQaDAzuqNffXG\\\\doctorado_albert\\\\conteo_pinguinos\\\\chinstraps_eca56.csv\"\n",
    "output_path = os.path.join('coords', 'yolo_coords.csv')\n",
    "IMGS_PATH = os.path.join('tiles_coords', 'subtiles')"
   ]
  },
  {
   "cell_type": "code",
   "execution_count": null,
   "metadata": {},
   "outputs": [],
   "source": [
    "\n",
    "def formatear_datos_yolo(input_csv:str, output_path:str = 'coords/yolo_coords.csv') -> pd.DataFrame:\n",
    "    \"\"\"\n",
    "    Convierte el formato de entrada Id, X, Y, en un formato de salia:\n",
    "    class,x_center,y_center,width,height\n",
    "    \"\"\"\n",
    "    df = pd.read_csv(input_csv, encoding='ISO-8859-1')\n",
    "    df_copy = pd.DataFrame()\n",
    "    df_copy['class'] = df['Id']\n",
    "    df_copy['x_center'] = df['X']\n",
    "    df_copy['y_center'] = df['Y']\n",
    "    df_copy['width'] = 30\n",
    "    df_copy['height'] = 30\n",
    "    df_copy.to_csv(output_path, index=False)\n",
    "    return df"
   ]
  },
  {
   "cell_type": "code",
   "execution_count": null,
   "metadata": {},
   "outputs": [],
   "source": [
    "formatear_datos_yolo(CSV_FILE_ORIGINAL)"
   ]
  },
  {
   "cell_type": "markdown",
   "metadata": {},
   "source": [
    "## Normalización de datos\n",
    "\n",
    "El segundo paso para trabajar con yolo es tener los datos normalizados."
   ]
  },
  {
   "cell_type": "code",
   "execution_count": 2,
   "metadata": {},
   "outputs": [],
   "source": [
    "FULL_ORTHOMOSAIC = 'G:\\\\.shortcut-targets-by-id\\\\1pYgV5EIk4-LapLNhlCwpQaDAzuqNffXG\\\\doctorado_albert\\\\conteo_pinguinos\\\\orthomosaic_all_big.tif'\n",
    "OUTPUT_PATH_NORMALIZED = 'coords/coords_normalized.csv'\n",
    "COORDS_YOLO_FORMAT = 'coords/yolo_coords.csv'"
   ]
  },
  {
   "cell_type": "code",
   "execution_count": 3,
   "metadata": {},
   "outputs": [],
   "source": [
    "def normalize_yolo_coords(\n",
    "    csv_file_coords:str = COORDS_YOLO_FORMAT, \n",
    "    output_file:str = OUTPUT_PATH_NORMALIZED,\n",
    "    tiff_file:str = FULL_ORTHOMOSAIC\n",
    "    ) -> None:\n",
    "    \"\"\"\n",
    "    Normaliza todas las coordenadas del dataset completo al formato YOLO.\n",
    "    \n",
    "    Args:\n",
    "    - csv_file: str - Ruta al archivo CSV con todas las coordenadas en formato YOLO (Id, x_center, y_center, width, height).\n",
    "    - tiff_file: str - Ruta al archivo TIFF que define el área de referencia. Se obtienen así los límites.\n",
    "    - output_file: str - Nombre del archivo de salida con las coordenadas normalizadas.\n",
    "    \"\"\"\n",
    "    # Cargar datos del CSV\n",
    "    data = pd.read_csv(csv_file_coords, encoding='ISO-8859-1')\n",
    "\n",
    "    # Abrir el archivo TIFF para obtener metadatos\n",
    "    with rasterio.open(tiff_file) as src:\n",
    "        transform = src.transform\n",
    "        width, height = src.width, src.height\n",
    "\n",
    "        # Definir los límites del área total\n",
    "        top_left = transform * (0, 0)\n",
    "        bottom_right = transform * (src.width, src.height)\n",
    "        min_x, max_y = top_left\n",
    "        max_x, min_y = bottom_right\n",
    "\n",
    "    # Filtrar los puntos dentro del área total (opcional, por si hay datos fuera del rango del TIFF)\n",
    "    data = data[\n",
    "        (data['x_center'] >= min_x) & (data['x_center'] <= max_x) &\n",
    "        (data['y_center'] >= min_y) & (data['y_center'] <= max_y)\n",
    "    ]\n",
    "\n",
    "    # Normalizar las coordenadas y dimensiones\n",
    "    data['x_center'] = (data['x_center'] - min_x) / (max_x - min_x)  # Normalización en X\n",
    "    data['y_center'] = (data['y_center'] - min_y) / (max_y - min_y)  # Normalización en Y\n",
    "    data['width'] = data['width'] / width  # Normalización del ancho\n",
    "    data['height'] = data['height'] / height  # Normalización de la altura\n",
    "\n",
    "    # Guardar el dataset en formato YOLO\n",
    "    os.makedirs(os.path.dirname(output_file), exist_ok=True)\n",
    "    data.to_csv(output_file, index=False, header=False)\n",
    "\n",
    "    print(f\"Dataset normalizado guardado en: {output_file}\")"
   ]
  },
  {
   "cell_type": "code",
   "execution_count": 4,
   "metadata": {},
   "outputs": [
    {
     "name": "stdout",
     "output_type": "stream",
     "text": [
      "Dataset normalizado guardado en: coords/coords_normalized.csv\n"
     ]
    }
   ],
   "source": [
    "\n",
    "normalize_yolo_coords()"
   ]
  }
 ],
 "metadata": {
  "kernelspec": {
   "display_name": "Python 3",
   "language": "python",
   "name": "python3"
  },
  "language_info": {
   "codemirror_mode": {
    "name": "ipython",
    "version": 3
   },
   "file_extension": ".py",
   "mimetype": "text/x-python",
   "name": "python",
   "nbconvert_exporter": "python",
   "pygments_lexer": "ipython3",
   "version": "3.12.3"
  }
 },
 "nbformat": 4,
 "nbformat_minor": 2
}
