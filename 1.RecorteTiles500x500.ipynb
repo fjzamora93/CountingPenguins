{
 "cells": [
  {
   "cell_type": "code",
   "execution_count": 8,
   "metadata": {},
   "outputs": [],
   "source": [
    "\n",
    "import os\n",
    "import pandas as pd\n",
    "import matplotlib.pyplot as plt\n",
    "import rasterio\n",
    "import numpy as np\n",
    "from rasterio.transform import from_origin\n",
    "from rasterio.windows import Window\n",
    "\n"
   ]
  },
  {
   "cell_type": "markdown",
   "metadata": {},
   "source": [
    "### Cargamos la imagen con rasterio\n",
    "\n",
    "Rasterio es la liberería que permitirá que las imágenes conserven los metadatos y que estén georeferenciadas aún después de procesarlas y recortarlas. "
   ]
  },
  {
   "cell_type": "code",
   "execution_count": 2,
   "metadata": {},
   "outputs": [
    {
     "name": "stdout",
     "output_type": "stream",
     "text": [
      "Imagen cargada desde: G:\\.shortcut-targets-by-id\\1pYgV5EIk4-LapLNhlCwpQaDAzuqNffXG\\doctorado_albert\\conteo_pinguinos\\recortes/recorte_62.tif\n",
      "Dimensiones:  (10195, 11420)\n",
      "Transformación de coordenadas:  | 0.00, 0.00,-59.24|\n",
      "| 0.00,-0.00,-62.30|\n",
      "| 0.00, 0.00, 1.00|\n",
      "Sistema de coordenadas:  EPSG:4326\n"
     ]
    }
   ],
   "source": [
    "\n",
    "# path  = '/content/drive/My Drive/doctorado_albert/conteo_pinguinos/'\n",
    "# image_name = \"orthomosaic_all_big.tif\"\n",
    "\n",
    "NUM_TILE = 62\n",
    "\n",
    "if os.path.exists('/content/drive/My Drive/doctorado_albert/conteo_pinguinos/'):\n",
    "    path  = '/content/drive/My Drive/doctorado_albert/conteo_pinguinos/'\n",
    "else:\n",
    "    path = 'G:\\\\.shortcut-targets-by-id\\\\1pYgV5EIk4-LapLNhlCwpQaDAzuqNffXG\\\\doctorado_albert\\\\conteo_pinguinos'\n",
    "\n",
    "image_name = f\"recortes/recorte_{NUM_TILE}.tif\"\n",
    "\n",
    "# Unir el path con el nombre de la imagen\n",
    "tiff_file = os.path.join(path, image_name)\n",
    "\n",
    "#! Verificamos la carga de la imagen (Solamente obtenemos información)\n",
    "# Cargar la imagen con rasterio\n",
    "with rasterio.open(tiff_file) as src:\n",
    "    print(f\"Imagen cargada desde: {tiff_file}\")\n",
    "    print(\"Dimensiones: \", (src.width, src.height))\n",
    "    print(\"Transformación de coordenadas: \", src.transform)\n",
    "    print(\"Sistema de coordenadas: \", src.crs)"
   ]
  },
  {
   "cell_type": "markdown",
   "metadata": {},
   "source": [
    "### Obtención de las coordenadas y de variables necesarias de la imagen"
   ]
  },
  {
   "cell_type": "code",
   "execution_count": 5,
   "metadata": {},
   "outputs": [
    {
     "name": "stdout",
     "output_type": "stream",
     "text": [
      "Metadatos de la imagen:\n",
      "driver: GTiff\n",
      "dtype: uint8\n",
      "nodata: None\n",
      "width: 10195\n",
      "height: 11420\n",
      "count: 4\n",
      "crs: EPSG:4326\n",
      "transform: | 0.00, 0.00,-59.24|\n",
      "| 0.00,-0.00,-62.30|\n",
      "| 0.00, 0.00, 1.00|\n",
      "\n",
      "Información adicional:\n",
      "Ancho de la imagen: 10195\n",
      "Altura de la imagen: 11420\n",
      "Sistema de coordenadas: EPSG:4326\n",
      "Transformación: | 0.00, 0.00,-59.24|\n",
      "| 0.00,-0.00,-62.30|\n",
      "| 0.00, 0.00, 1.00|\n",
      "Coordenadas de las esquinas de la imagen:\n",
      "TOP LEFT: (-59.236389267356785, -62.300974267474736)\n",
      "Esquina superior derecha: (-59.231134009926784, -62.300974267474736)\n",
      "Esquina inferior izquierda: (-59.236389267356785, -62.303714473634734)\n",
      "BOTTOM RIGHT: (-59.231134009926784, -62.303714473634734)\n"
     ]
    }
   ],
   "source": [
    "with rasterio.open(tiff_file) as src:\n",
    "    # Obtener los metadatos\n",
    "    transform = src.transform\n",
    "    metadata = src.meta\n",
    "    top_left = src.transform * (0, 0)\n",
    "    top_right = src.transform * (src.width, 0)\n",
    "    bottom_left = src.transform * (0, src.height)\n",
    "    bottom_right = src.transform * (src.width, src.height)\n",
    "\n",
    "    WIDTH, HEIGHT = src.width, src.height\n",
    "\n",
    "   \n",
    "    print(\"Metadatos de la imagen:\")\n",
    "    for key, value in metadata.items():\n",
    "        print(f\"{key}: {value}\")\n",
    "\n",
    "    # También puedes acceder a información específica si lo deseas\n",
    "    print(\"\\nInformación adicional:\")\n",
    "    print(\"Ancho de la imagen:\", src.width)\n",
    "    print(\"Altura de la imagen:\", src.height)\n",
    "    print(\"Sistema de coordenadas:\", src.crs)  # Sistema de referencia de coordenadas\n",
    "    print(\"Transformación:\", src.transform)  # Transformación espacial\n",
    "\n",
    "\n",
    "    print(\"Coordenadas de las esquinas de la imagen:\")\n",
    "    print(\"TOP LEFT:\", top_left)\n",
    "    print(\"Esquina superior derecha:\", top_right)\n",
    "    print(\"Esquina inferior izquierda:\", bottom_left)\n",
    "    print(\"BOTTOM RIGHT:\", bottom_right)\n",
    "\n",
    "  "
   ]
  },
  {
   "cell_type": "code",
   "execution_count": 9,
   "metadata": {},
   "outputs": [
    {
     "name": "stdout",
     "output_type": "stream",
     "text": [
      "Fila nº  0\n",
      "Fila nº  1\n",
      "Fila nº  2\n",
      "Fila nº  3\n",
      "Fila nº  4\n",
      "Fila nº  5\n",
      "Fila nº  6\n",
      "Fila nº  7\n",
      "Fila nº  8\n",
      "Fila nº  9\n",
      "Fila nº  10\n",
      "Fila nº  11\n",
      "Fila nº  12\n",
      "Fila nº  13\n",
      "Fila nº  14\n",
      "Fila nº  15\n",
      "Fila nº  16\n",
      "Fila nº  17\n",
      "Fila nº  18\n",
      "Fila nº  19\n",
      "Recortes guardados en el directorio: maps\\tiles_500x500_62\n"
     ]
    }
   ],
   "source": [
    "#Directorio de salida\n",
    "OUTPUT_DIR = os.path.join('maps', f'tiles_500x500_{NUM_TILE}')\n",
    "\n",
    "#Definición del recorte\n",
    "ROWS, COLS = 20, 20\n",
    "\n",
    "# Dimensiones de cada recorte\n",
    "tile_width = WIDTH // COLS\n",
    "tile_height = HEIGHT // ROWS\n",
    "\n",
    "# Crear un directorio para las imágenes recortadas\n",
    "os.makedirs(OUTPUT_DIR, exist_ok=True)\n",
    "\n",
    "# Abrir el TIFF original con rasterio\n",
    "with rasterio.open(tiff_file) as src:\n",
    "    for i in range(ROWS):\n",
    "        print(\"Fila nº \", i)\n",
    "        for j in range(COLS):\n",
    "            left = j * tile_width\n",
    "            upper = i * tile_height\n",
    "            \n",
    "            # Definir ventana de recorte\n",
    "            window = Window(left, upper, tile_width, tile_height)\n",
    "            \n",
    "            # Leer el recorte\n",
    "            cropped_image = src.read(window=window)\n",
    "            \n",
    "            # Crear los metadatos del recorte\n",
    "            cropped_meta = src.meta.copy()\n",
    "            cropped_meta.update({\n",
    "                \"height\": tile_height,\n",
    "                \"width\": tile_width,\n",
    "                \"transform\": rasterio.windows.transform(window, src.transform)\n",
    "            })\n",
    "            \n",
    "            # Guardar la imagen recortada con georreferenciación\n",
    "            output_path = f\"{OUTPUT_DIR}/subrecorte_{i * COLS + j + 1}.tiff\"\n",
    "            with rasterio.open(output_path, 'w', **cropped_meta) as dst:\n",
    "                dst.write(cropped_image)\n",
    "\n",
    "print(\"Recortes guardados en el directorio:\", OUTPUT_DIR)"
   ]
  },
  {
   "cell_type": "markdown",
   "metadata": {},
   "source": [
    "### Comprobamos que los recortes están efectivamente georeferenciados"
   ]
  },
  {
   "cell_type": "code",
   "execution_count": 10,
   "metadata": {},
   "outputs": [
    {
     "name": "stdout",
     "output_type": "stream",
     "text": [
      "Metadatos de la imagen:\n",
      "driver: GTiff\n",
      "dtype: uint8\n",
      "nodata: None\n",
      "width: 509\n",
      "height: 571\n",
      "count: 4\n",
      "crs: EPSG:4326\n",
      "transform: | 0.00, 0.00,-59.23|\n",
      "| 0.00,-0.00,-62.30|\n",
      "| 0.00, 0.00, 1.00|\n",
      "\n",
      "Información adicional:\n",
      "Ancho de la imagen: 509\n",
      "Altura de la imagen: 571\n",
      "Sistema de coordenadas: EPSG:4326\n",
      "Transformación: | 0.00, 0.00,-59.23|\n",
      "| 0.00,-0.00,-62.30|\n",
      "| 0.00, 0.00, 1.00|\n",
      "Coordenadas de las esquinas de la imagen:\n",
      "TOP LEFT: (-59.231666494568785, -62.30124828809073)\n",
      "Esquina superior derecha: (-59.231404118302784, -62.30124828809073)\n",
      "Esquina inferior izquierda: (-59.231666494568785, -62.301385298398735)\n",
      "BOTTOM RIGHT: (-59.231404118302784, -62.301385298398735)\n"
     ]
    }
   ],
   "source": [
    "OUTPUT_DIR = os.path.join('maps', f'tiles_500x500_{NUM_TILE}')\n",
    "sample_file = os.path.join(OUTPUT_DIR, \"test_tile.tiff\")\n",
    "\n",
    "with rasterio.open(sample_file) as src:\n",
    "    transform = src.transform\n",
    "    metadata = src.meta\n",
    "    top_left = src.transform * (0, 0)\n",
    "    top_right = src.transform * (src.width, 0)\n",
    "    bottom_left = src.transform * (0, src.height)\n",
    "    bottom_right = src.transform * (src.width, src.height)\n",
    "\n",
    "    WIDTH, HEIGHT = src.width, src.height\n",
    "\n",
    "   \n",
    "    print(\"Metadatos de la imagen:\")\n",
    "    for key, value in metadata.items():\n",
    "        print(f\"{key}: {value}\")\n",
    "\n",
    "    # También puedes acceder a información específica si lo deseas\n",
    "    print(\"\\nInformación adicional:\")\n",
    "    print(\"Ancho de la imagen:\", src.width)\n",
    "    print(\"Altura de la imagen:\", src.height)\n",
    "    print(\"Sistema de coordenadas:\", src.crs)  # Sistema de referencia de coordenadas\n",
    "    print(\"Transformación:\", src.transform)  # Transformación espacial\n",
    "\n",
    "\n",
    "    print(\"Coordenadas de las esquinas de la imagen:\")\n",
    "    print(\"TOP LEFT:\", top_left)\n",
    "    print(\"Esquina superior derecha:\", top_right)\n",
    "    print(\"Esquina inferior izquierda:\", bottom_left)\n",
    "    print(\"BOTTOM RIGHT:\", bottom_right)"
   ]
  }
 ],
 "metadata": {
  "kernelspec": {
   "display_name": "env",
   "language": "python",
   "name": "python3"
  },
  "language_info": {
   "codemirror_mode": {
    "name": "ipython",
    "version": 3
   },
   "file_extension": ".py",
   "mimetype": "text/x-python",
   "name": "python",
   "nbconvert_exporter": "python",
   "pygments_lexer": "ipython3",
   "version": "3.12.3"
  }
 },
 "nbformat": 4,
 "nbformat_minor": 2
}
